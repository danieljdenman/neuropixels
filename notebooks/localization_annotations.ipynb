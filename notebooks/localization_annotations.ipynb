{
 "cells": [
  {
   "cell_type": "code",
   "execution_count": 1,
   "metadata": {
    "collapsed": false
   },
   "outputs": [],
   "source": [
    "import glob\n",
    "import numpy as np\n",
    "anotherfolderfullofdatawithhistology = '/Volumes/SD1/DanD/M310016/localization'\n"
   ]
  },
  {
   "cell_type": "code",
   "execution_count": 2,
   "metadata": {
    "collapsed": false
   },
   "outputs": [],
   "source": [
    "labels={}\n",
    "for label in np.sort(glob.glob(anotherfolderfullofdatawithhistology+'/M*')):\n",
    "    labels[label]={}"
   ]
  },
  {
   "cell_type": "code",
   "execution_count": 2,
   "metadata": {
    "collapsed": false
   },
   "outputs": [
    {
     "data": {
      "text/plain": [
       "'/Volumes/SD1/DanD/M310016/localization/M310016_2017-06-15_11-21-18_7'"
      ]
     },
     "execution_count": 2,
     "metadata": {},
     "output_type": "execute_result"
    }
   ],
   "source": [
    "glob.glob(anotherfolderfullofdatawithhistology+'/M*')[7]"
   ]
  },
  {
   "cell_type": "code",
   "execution_count": 4,
   "metadata": {
    "collapsed": false
   },
   "outputs": [
    {
     "data": {
      "text/plain": [
       "'/Volumes/SD1/DanD/M310016/localization/M310016_2017-06-15_08-10-38_1'"
      ]
     },
     "execution_count": 4,
     "metadata": {},
     "output_type": "execute_result"
    }
   ],
   "source": [
    "glob.glob(anotherfolderfullofdatawithhistology+'/M*')[0]"
   ]
  },
  {
   "cell_type": "code",
   "execution_count": 5,
   "metadata": {
    "collapsed": false
   },
   "outputs": [],
   "source": [
    "labels[glob.glob(anotherfolderfullofdatawithhistology+'/M*')[0]] = \\\n",
    "             {'above':(351,383),\n",
    "             'primary motor cortex': (202,350),\n",
    "             'white matter': (172,201),\n",
    "             'caudate putamen':(21,171),\n",
    "             'nucleus accumbens':(0,20)}"
   ]
  },
  {
   "cell_type": "code",
   "execution_count": 6,
   "metadata": {
    "collapsed": true
   },
   "outputs": [],
   "source": [
    "labels[glob.glob(anotherfolderfullofdatawithhistology+'/M*')[1]] = \\\n",
    "             {'above':(346,383),\n",
    "             'primary motor cortex': (215,345),\n",
    "             'white matter': (186,214),\n",
    "             'caudate putamen':(72,185),\n",
    "             'globus pallidus':(0,71)}"
   ]
  },
  {
   "cell_type": "code",
   "execution_count": 7,
   "metadata": {
    "collapsed": true
   },
   "outputs": [],
   "source": [
    "labels[glob.glob(anotherfolderfullofdatawithhistology+'/M*')[2]] = \\\n",
    "             {'above':(332,383),\n",
    "             'secondary motor cortex': (184,331),\n",
    "             'white matter': (161,183),\n",
    "             'lateral ventricle':(44,160),\n",
    "             'fimbria':(0,43)}"
   ]
  },
  {
   "cell_type": "code",
   "execution_count": 8,
   "metadata": {
    "collapsed": true
   },
   "outputs": [],
   "source": [
    "labels[glob.glob(anotherfolderfullofdatawithhistology+'/M*')[3]] = \\\n",
    "             {'above':(340,383),\n",
    "             'primary somatosensory cortex': (268,339),\n",
    "             'white matter': (244,267),\n",
    "             'lateral ventricle':(147,243),\n",
    "             'fimbria':(105,146),\n",
    "             'LDVL':(69,104),\n",
    "             'Po':(38,68),\n",
    "             'VPM':(0,37)}"
   ]
  },
  {
   "cell_type": "code",
   "execution_count": 9,
   "metadata": {
    "collapsed": true
   },
   "outputs": [],
   "source": [
    "labels[glob.glob(anotherfolderfullofdatawithhistology+'/M*')[4]] = \\\n",
    "             {'above':(340,383),\n",
    "             'primary somatosensory cortex': (268,339),\n",
    "             'white matter': (244,267),\n",
    "             'lateral ventricle':(147,243),\n",
    "             'fimbria':(105,146),\n",
    "             'LDVL':(69,104),\n",
    "             'Po':(38,68),\n",
    "             'VPM':(0,37)}"
   ]
  },
  {
   "cell_type": "code",
   "execution_count": 10,
   "metadata": {
    "collapsed": true
   },
   "outputs": [],
   "source": [
    "labels[glob.glob(anotherfolderfullofdatawithhistology+'/M*')[5]] = \\\n",
    "             {'above':(352,383),\n",
    "             'primary motor cortex': (275,351),\n",
    "             'white matter': (263,274),\n",
    "             'lateral ventricle':(242,262),\n",
    "             'fimbria':(180,241),\n",
    "             'lateral dorsal':(132,179),\n",
    "             'ventral thalamus':(23,131),\n",
    "             'zona incerta':(0,22)}"
   ]
  },
  {
   "cell_type": "code",
   "execution_count": 12,
   "metadata": {
    "collapsed": true
   },
   "outputs": [],
   "source": [
    "labels[glob.glob(anotherfolderfullofdatawithhistology+'/M*')[6]] = \\\n",
    "             {'above':(352,383),\n",
    "             'primary somatosensory cortex': (279,351),\n",
    "             'white matter': (269,278),\n",
    "             'CA1':(190,268),\n",
    "             'dentate gyrus':(149,189),\n",
    "             'CA3':(89,148),\n",
    "             'lateral geniculate':(48,88),\n",
    "             'white matter':(40,47),\n",
    "             'ventral thalamus':(0,39)}"
   ]
  },
  {
   "cell_type": "code",
   "execution_count": 11,
   "metadata": {
    "collapsed": true
   },
   "outputs": [],
   "source": [
    "labels[glob.glob(anotherfolderfullofdatawithhistology+'/M*')[7]] = \\\n",
    "             {'above':(344,383),\n",
    "             'parietal cortex': (279,343),\n",
    "             'white matter': (269,278),\n",
    "             'CA1':(179,268),\n",
    "             'dentate gyrus':(104,178),\n",
    "             'lateral posterior':(80,103),\n",
    "             'Po':(34,79),\n",
    "             'ventral thalamus':(0,33)}"
   ]
  },
  {
   "cell_type": "code",
   "execution_count": 13,
   "metadata": {
    "collapsed": true
   },
   "outputs": [],
   "source": [
    "labels[glob.glob(anotherfolderfullofdatawithhistology+'/M*')[8]] = \\\n",
    "             {'above':(354,383),\n",
    "             'primary somatosensory cortex': (220,353),\n",
    "             'white matter': (192,219),\n",
    "             'caudate putamen':(0,191)}"
   ]
  },
  {
   "cell_type": "code",
   "execution_count": 14,
   "metadata": {
    "collapsed": true
   },
   "outputs": [],
   "source": [
    "labels['/Volumes/SD1/DanD/M270512/270512_2016-12-16_10-51-44'] = \\\n",
    "             {'above':(318,383),\n",
    "             'primary visual cortex': (191,353),\n",
    "             'white matter': (175,190),\n",
    "             'subiculum':(143,174),\n",
    "             'dentate gyrus':(59,142),\n",
    "             'medial geniculate':(0,58)}"
   ]
  },
  {
   "cell_type": "code",
   "execution_count": 15,
   "metadata": {
    "collapsed": true
   },
   "outputs": [],
   "source": [
    "import cPickle as pkl"
   ]
  },
  {
   "cell_type": "code",
   "execution_count": 16,
   "metadata": {
    "collapsed": true
   },
   "outputs": [],
   "source": [
    "pkl.dump(labels,open('/Volumes/SD1/DanD/M310016/localization/labels.pkl','wb'))"
   ]
  }
 ],
 "metadata": {
  "hide_input": false,
  "kernelspec": {
   "display_name": "Python 2",
   "language": "python",
   "name": "python2"
  },
  "language_info": {
   "codemirror_mode": {
    "name": "ipython",
    "version": 2
   },
   "file_extension": ".py",
   "mimetype": "text/x-python",
   "name": "python",
   "nbconvert_exporter": "python",
   "pygments_lexer": "ipython2",
   "version": "2.7.12"
  }
 },
 "nbformat": 4,
 "nbformat_minor": 1
}
