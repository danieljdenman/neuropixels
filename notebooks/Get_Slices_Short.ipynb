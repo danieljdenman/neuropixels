{
 "cells": [
  {
   "cell_type": "code",
   "execution_count": 1,
   "metadata": {
    "collapsed": true
   },
   "outputs": [],
   "source": [
    "import numpy as np\n",
    "import matplotlib.pyplot as plt\n",
    "%matplotlib inline\n",
    "from matplotlib import gridspec\n",
    "import scipy.ndimage as ndimage\n",
    "import timeit"
   ]
  },
  {
   "cell_type": "code",
   "execution_count": 2,
   "metadata": {
    "collapsed": true
   },
   "outputs": [],
   "source": [
    "from allensdk.core.mouse_connectivity_cache import MouseConnectivityCache\n",
    "# pandas for nice tables\n",
    "import pandas as pd"
   ]
  },
  {
   "cell_type": "code",
   "execution_count": 6,
   "metadata": {
    "collapsed": true
   },
   "outputs": [],
   "source": [
    "mcc = MouseConnectivityCache(manifest_file='mcc/manifest.json', resolution=25)"
   ]
  },
  {
   "cell_type": "code",
   "execution_count": 7,
   "metadata": {
    "collapsed": false
   },
   "outputs": [
    {
     "data": {
      "text/plain": [
       "(528L, 320L, 456L)"
      ]
     },
     "execution_count": 7,
     "metadata": {},
     "output_type": "execute_result"
    }
   ],
   "source": [
    "av, _ = mcc.get_annotation_volume()\n",
    "av.shape"
   ]
  },
  {
   "cell_type": "code",
   "execution_count": 8,
   "metadata": {
    "collapsed": false
   },
   "outputs": [
    {
     "data": {
      "text/plain": [
       "(528L, 320L, 456L)"
      ]
     },
     "execution_count": 8,
     "metadata": {},
     "output_type": "execute_result"
    }
   ],
   "source": [
    "tv, _ = mcc.get_template_volume()\n",
    "tv.shape"
   ]
  },
  {
   "cell_type": "markdown",
   "metadata": {},
   "source": [
    "## Function for rotating a point around a plane"
   ]
  },
  {
   "cell_type": "code",
   "execution_count": 58,
   "metadata": {
    "collapsed": true
   },
   "outputs": [],
   "source": [
    "def rotatePoint(template, angle, point, plane):\n",
    "    new_point = np.array([point[0],point[1],point[2]])\n",
    "\n",
    "    degrees = angle\n",
    "    x = point[plane[0]]\n",
    "    y = point[plane[1]]\n",
    "    L = template.shape[plane[0]]\n",
    "    H = template.shape[plane[1]]\n",
    "    \n",
    "    newL = (L * np.sin(np.radians(degrees)) + H * np.cos(np.radians(degrees)))\n",
    "    newH = (L * np.cos(np.radians(degrees)) + H * np.sin(np.radians(degrees)))\n",
    "\n",
    "    new_point[plane[1]] = ((x - 0.5 * L) * np.cos(np.radians(degrees))) - ((y - 0.5 * H) * np.sin(np.radians(degrees))) + 0.5 * newH\n",
    "    new_point[plane[0]] = ((x - 0.5 * L) * np.sin(np.radians(degrees))) + ((y - 0.5 * H) * np.cos(np.radians(degrees))) + 0.5 * newL\n",
    "    return new_point"
   ]
  },
  {
   "cell_type": "markdown",
   "metadata": {},
   "source": [
    "## Function for rotating the voxels given an angle"
   ]
  },
  {
   "cell_type": "code",
   "execution_count": 59,
   "metadata": {
    "collapsed": true
   },
   "outputs": [],
   "source": [
    "def rotate1d(template, angle, plane):\n",
    "    rotated = ndimage.interpolation.rotate(template, angle, reshape=True, axes=plane)\n",
    "    return rotated;"
   ]
  },
  {
   "cell_type": "markdown",
   "metadata": {},
   "source": [
    "## Function that does the above two given the starting template, angles in the order of [sagittal, horizontal, coronal] and also a point if you want"
   ]
  },
  {
   "cell_type": "code",
   "execution_count": 60,
   "metadata": {
    "collapsed": true
   },
   "outputs": [],
   "source": [
    "def rotate3d(template, angles, point=-1):\n",
    "    sagittal = (0, 1)\n",
    "    horizontal = (0, 2)\n",
    "    coronal = (2, 1)\n",
    "    \n",
    "    rotated_1 = rotate1d(template, angles[0], sagittal)\n",
    "    rotated_2 = rotate1d(rotated_1, angles[1], horizontal)\n",
    "    rotated_3 = rotate1d(rotated_2, angles[2], coronal)\n",
    "\n",
    "    if point == -1:\n",
    "        return rotated_3;\n",
    "    else:\n",
    "        point_1 = rotatePoint(template, angles[0], point, sagittal)\n",
    "        point_2 = rotatePoint(rotated_1, angles[1], point_1, horizontal)\n",
    "        point_3 = rotatePoint(rotated_2, angles[2], point_2, coronal)\n",
    "        \n",
    "        return rotated_3, point_3;"
   ]
  },
  {
   "cell_type": "markdown",
   "metadata": {},
   "source": [
    "## Example Usage"
   ]
  },
  {
   "cell_type": "code",
   "execution_count": 64,
   "metadata": {
    "collapsed": false
   },
   "outputs": [
    {
     "ename": "NameError",
     "evalue": "name 'elapsed' is not defined",
     "output_type": "error",
     "traceback": [
      "\u001b[1;31m---------------------------------------------------------------------------\u001b[0m",
      "\u001b[1;31mNameError\u001b[0m                                 Traceback (most recent call last)",
      "\u001b[1;32m<ipython-input-64-90c523fc58e4>\u001b[0m in \u001b[0;36m<module>\u001b[1;34m()\u001b[0m\n\u001b[0;32m      6\u001b[0m \u001b[0mtv_rotated\u001b[0m\u001b[1;33m,\u001b[0m \u001b[0mnew_point\u001b[0m \u001b[1;33m=\u001b[0m \u001b[0mrotate3d\u001b[0m\u001b[1;33m(\u001b[0m\u001b[0mtemplate\u001b[0m \u001b[1;33m=\u001b[0m \u001b[0mtv\u001b[0m\u001b[1;33m,\u001b[0m \u001b[0mangles\u001b[0m \u001b[1;33m=\u001b[0m \u001b[0mrotation_angles\u001b[0m\u001b[1;33m,\u001b[0m \u001b[0mpoint\u001b[0m \u001b[1;33m=\u001b[0m \u001b[0mrotation_point\u001b[0m\u001b[1;33m)\u001b[0m\u001b[1;33m\u001b[0m\u001b[0m\n\u001b[0;32m      7\u001b[0m \u001b[1;33m\u001b[0m\u001b[0m\n\u001b[1;32m----> 8\u001b[1;33m \u001b[1;32mprint\u001b[0m \u001b[0mstr\u001b[0m\u001b[1;33m(\u001b[0m\u001b[0melapsed\u001b[0m\u001b[1;33m)\u001b[0m \u001b[1;33m+\u001b[0m \u001b[1;34m' seconds'\u001b[0m\u001b[1;33m\u001b[0m\u001b[0m\n\u001b[0m",
      "\u001b[1;31mNameError\u001b[0m: name 'elapsed' is not defined"
     ]
    }
   ],
   "source": [
    "start_time = timeit.default_timer()\n",
    "\n",
    "rotation_angles = [45, 45, 45]\n",
    "rotation_point = [280, 160, 228]\n",
    "\n",
    "tv_rotated, new_point = rotate3d(template = tv, angles = rotation_angles, point = rotation_point)\n",
    "\n",
    "elapsed = timeit.default_timer() - start_time\n",
    "print str(elapsed) + ' seconds'"
   ]
  },
  {
   "cell_type": "code",
   "execution_count": 67,
   "metadata": {
    "collapsed": false
   },
   "outputs": [
    {
     "name": "stdout",
     "output_type": "stream",
     "text": [
      "141\n",
      "[381 473 489]\n"
     ]
    }
   ],
   "source": [
    "print tv_rotated[new_point[0], new_point[1], new_point[2]]\n",
    "print new_point"
   ]
  },
  {
   "cell_type": "code",
   "execution_count": null,
   "metadata": {
    "collapsed": true
   },
   "outputs": [],
   "source": []
  }
 ],
 "metadata": {
  "hide_input": false,
  "kernelspec": {
   "display_name": "Python 2",
   "language": "python",
   "name": "python2"
  },
  "language_info": {
   "codemirror_mode": {
    "name": "ipython",
    "version": 2
   },
   "file_extension": ".py",
   "mimetype": "text/x-python",
   "name": "python",
   "nbconvert_exporter": "python",
   "pygments_lexer": "ipython2",
   "version": "2.7.12"
  }
 },
 "nbformat": 4,
 "nbformat_minor": 2
}
